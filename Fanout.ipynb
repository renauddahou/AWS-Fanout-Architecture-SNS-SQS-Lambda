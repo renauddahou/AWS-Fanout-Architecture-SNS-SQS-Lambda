{
 "cells": [
  {
   "cell_type": "code",
   "execution_count": 1,
   "metadata": {},
   "outputs": [],
   "source": [
    "try:\n",
    "    import boto3\n",
    "    import os\n",
    "    import sys\n",
    "    import json\n",
    "except Exception as e:\n",
    "    print(e)\n",
    " \n",
    "AWS_ACCESS_KEY=\"XXXX\"\n",
    "AWS_SECRET_KEY=\"XXX\"\n",
    "AWS_SQS_QUEUE_NAME = \"XXXX\"\n",
    "\n",
    "\n",
    "class SQSQueue(object):\n",
    " \n",
    "    def __init__(self, queueName=None):\n",
    "        self.resource = boto3.resource('sqs', region_name='us-east-1',\n",
    "                                       aws_access_key_id=AWS_ACCESS_KEY,\n",
    "                                       aws_secret_access_key=AWS_SECRET_KEY)\n",
    "        self.queue = self.resource.get_queue_by_name(QueueName=AWS_SQS_QUEUE_NAME)\n",
    "        self.QueueName = queueName\n",
    " \n",
    "    def send(self, Message={}):\n",
    "        data = json.dumps(Message)\n",
    "        response = self.queue.send_message(MessageBody=data)\n",
    "        return response\n",
    " \n",
    "    def receive(self):\n",
    "        try:\n",
    "            queue = self.resource.get_queue_by_name(QueueName=self.QueueName)\n",
    "            for message in queue.receive_messages():\n",
    "                data = message.body\n",
    "                data = json.loads(data)\n",
    "                message.delete()\n",
    "        except Exception:\n",
    "            print(e)\n",
    "            return []\n",
    "        return data\n",
    " \n"
   ]
  },
  {
   "cell_type": "code",
   "execution_count": 29,
   "metadata": {},
   "outputs": [
    {
     "name": "stdout",
     "output_type": "stream",
     "text": [
      "{'name': 'Soumil Shah please sub ', 'count': '1'}\n",
      "{'name': 'Soumil Shah please sub ', 'count': '2'}\n",
      "{'name': 'Soumil Shah please sub ', 'count': '3'}\n",
      "{'name': 'Soumil Shah please sub ', 'count': '4'}\n",
      "{'name': 'Soumil Shah please sub ', 'count': '5'}\n",
      "{'name': 'Soumil Shah please sub ', 'count': '6'}\n",
      "{'name': 'Soumil Shah please sub ', 'count': '7'}\n",
      "{'name': 'Soumil Shah please sub ', 'count': '8'}\n",
      "{'name': 'Soumil Shah please sub ', 'count': '9'}\n"
     ]
    }
   ],
   "source": [
    "from time import sleep\n",
    "q = SQSQueue(queueName=AWS_SQS_QUEUE_NAME)\n",
    "\n",
    "for i in range(1,10):\n",
    "    Message = {\n",
    "    \"name\":\"Soumil Shah please sub \",\n",
    "    \"count\":str(i),}\n",
    "    \n",
    "    print(Message)\n",
    "    sleep(2)\n",
    "    response = q.send(Message=Message)\n",
    "\n",
    " "
   ]
  },
  {
   "cell_type": "markdown",
   "metadata": {},
   "source": [
    "# SNS"
   ]
  },
  {
   "cell_type": "code",
   "execution_count": 2,
   "metadata": {},
   "outputs": [],
   "source": [
    "try:\n",
    "    import boto3\n",
    "    import os\n",
    "    import sys\n",
    "    import json\n",
    "except Exception as e:\n",
    "    print(e)"
   ]
  },
  {
   "cell_type": "code",
   "execution_count": 3,
   "metadata": {},
   "outputs": [],
   "source": [
    "client = boto3.client('sns', region_name='us-east-1',\n",
    "                               aws_access_key_id=AWS_ACCESS_KEY,\n",
    "                               aws_secret_access_key=AWS_SECRET_KEY)"
   ]
  },
  {
   "cell_type": "code",
   "execution_count": 4,
   "metadata": {},
   "outputs": [],
   "source": [
    "response = client.list_topics(\n",
    ")"
   ]
  },
  {
   "cell_type": "code",
   "execution_count": 10,
   "metadata": {
    "scrolled": true
   },
   "outputs": [
    {
     "data": {
      "text/plain": [
       "{'MessageId': 'f470426a-7898-5662-9f29-15a4b9a5c567',\n",
       " 'ResponseMetadata': {'RequestId': '14e520d8-c474-5434-93bc-771605492731',\n",
       "  'HTTPStatusCode': 200,\n",
       "  'HTTPHeaders': {'x-amzn-requestid': '14e520d8-c474-5434-93bc-771605492731',\n",
       "   'content-type': 'text/xml',\n",
       "   'content-length': '294',\n",
       "   'date': 'Sun, 06 Sep 2020 10:50:37 GMT'},\n",
       "  'RetryAttempts': 0}}"
      ]
     },
     "execution_count": 10,
     "metadata": {},
     "output_type": "execute_result"
    }
   ],
   "source": [
    "response"
   ]
  },
  {
   "cell_type": "code",
   "execution_count": 11,
   "metadata": {},
   "outputs": [
    {
     "data": {
      "text/plain": [
       "{'MessageId': 'f470426a-7898-5662-9f29-15a4b9a5c567',\n",
       " 'ResponseMetadata': {'RequestId': '14e520d8-c474-5434-93bc-771605492731',\n",
       "  'HTTPStatusCode': 200,\n",
       "  'HTTPHeaders': {'x-amzn-requestid': '14e520d8-c474-5434-93bc-771605492731',\n",
       "   'content-type': 'text/xml',\n",
       "   'content-length': '294',\n",
       "   'date': 'Sun, 06 Sep 2020 10:50:37 GMT'},\n",
       "  'RetryAttempts': 0}}"
      ]
     },
     "execution_count": 11,
     "metadata": {},
     "output_type": "execute_result"
    }
   ],
   "source": [
    "response"
   ]
  },
  {
   "cell_type": "code",
   "execution_count": 15,
   "metadata": {},
   "outputs": [],
   "source": [
    "from time import sleep "
   ]
  },
  {
   "cell_type": "code",
   "execution_count": 19,
   "metadata": {},
   "outputs": [
    {
     "name": "stdout",
     "output_type": "stream",
     "text": [
      "{'MessageId': '155db39d-7503-5fdb-b808-e453b74f7993', 'ResponseMetadata': {'RequestId': '515ff281-6370-5b3b-88d1-a54fa13c3d73', 'HTTPStatusCode': 200, 'HTTPHeaders': {'x-amzn-requestid': '515ff281-6370-5b3b-88d1-a54fa13c3d73', 'content-type': 'text/xml', 'content-length': '294', 'date': 'Sun, 06 Sep 2020 10:55:07 GMT'}, 'RetryAttempts': 0}}\n"
     ]
    }
   ],
   "source": [
    "for x in range(1, 10):\n",
    "    response = client.publish(\n",
    "    TopicArn='arn:aws:sns:us-east-1:586073383152:name',\n",
    "    Message=json.dumps({'name': 'Soumil Shah please sub ', 'count': str(1212)}),\n",
    "    Subject='test subject',\n",
    ")\n",
    "    sleep(2)\n",
    "    print(response)\n",
    "    break"
   ]
  },
  {
   "cell_type": "code",
   "execution_count": 14,
   "metadata": {},
   "outputs": [],
   "source": []
  },
  {
   "cell_type": "code",
   "execution_count": 13,
   "metadata": {},
   "outputs": [
    {
     "data": {
      "text/plain": [
       "{'MessageId': 'e0b324bc-c4ca-569b-b71e-7372050c3cce',\n",
       " 'ResponseMetadata': {'RequestId': 'd832de6a-ac6e-50c8-8e75-89a46da8fa9d',\n",
       "  'HTTPStatusCode': 200,\n",
       "  'HTTPHeaders': {'x-amzn-requestid': 'd832de6a-ac6e-50c8-8e75-89a46da8fa9d',\n",
       "   'content-type': 'text/xml',\n",
       "   'content-length': '294',\n",
       "   'date': 'Sun, 06 Sep 2020 10:52:54 GMT'},\n",
       "  'RetryAttempts': 0}}"
      ]
     },
     "execution_count": 13,
     "metadata": {},
     "output_type": "execute_result"
    }
   ],
   "source": [
    "response"
   ]
  }
 ],
 "metadata": {
  "kernelspec": {
   "display_name": "Python 3",
   "language": "python",
   "name": "python3"
  },
  "language_info": {
   "codemirror_mode": {
    "name": "ipython",
    "version": 3
   },
   "file_extension": ".py",
   "mimetype": "text/x-python",
   "name": "python",
   "nbconvert_exporter": "python",
   "pygments_lexer": "ipython3",
   "version": "3.8.3"
  }
 },
 "nbformat": 4,
 "nbformat_minor": 4
}
